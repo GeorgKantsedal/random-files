{
  "nbformat": 4,
  "nbformat_minor": 0,
  "metadata": {
    "colab": {
      "name": "interview29-06-2022.ipynb",
      "provenance": [],
      "collapsed_sections": []
    },
    "kernelspec": {
      "name": "python3",
      "display_name": "Python 3"
    },
    "language_info": {
      "name": "python"
    }
  },
  "cells": [
    {
      "cell_type": "markdown",
      "source": [
        "# Once upon an interview with a practical task\n",
        "\n",
        "We have a array of ranges. Determine that the number is in one of the ranges in the most optimal way.\n",
        "\n",
        "The range array is specified in ascending order, the last number of the range is not inclusive. The ranges do not intersect and the tasks are also unique. There is no limit on the number of elements (only by data type)."
      ],
      "metadata": {
        "id": "ycY9D8VXaCPN"
      }
    },
    {
      "cell_type": "code",
      "execution_count": 1,
      "metadata": {
        "id": "wN6rXiXMtAZM"
      },
      "outputs": [],
      "source": [
        "import numpy as np\n",
        "\n",
        "def generator(len_):\n",
        "  rez = []\n",
        "  for i in range(len_):\n",
        "    rez.append((i, i+1))\n",
        "  return rez\n",
        "\n",
        "a = np.array(generator(100))\n",
        "# 0, 100\n",
        "b = 99\n",
        "# print(a)"
      ]
    },
    {
      "cell_type": "markdown",
      "source": [
        "## O(n) solution"
      ],
      "metadata": {
        "id": "7KXymgDQbV7R"
      }
    },
    {
      "cell_type": "code",
      "source": [
        "def func(a, b):\n",
        "  for i in a:\n",
        "    if (b >= i[0]) and (b < i[1]):\n",
        "      return True\n",
        "  return False"
      ],
      "metadata": {
        "id": "z5OuDelRniwQ"
      },
      "execution_count": 81,
      "outputs": []
    },
    {
      "cell_type": "code",
      "source": [
        "print(func(a, b))"
      ],
      "metadata": {
        "colab": {
          "base_uri": "https://localhost:8080/"
        },
        "id": "WNyeCj7lnvei",
        "outputId": "ef4abeb8-7aed-4bbc-ee02-5ad95e65b635"
      },
      "execution_count": 84,
      "outputs": [
        {
          "output_type": "stream",
          "name": "stdout",
          "text": [
            "True\n"
          ]
        }
      ]
    },
    {
      "cell_type": "code",
      "source": [
        "%%timeit\n",
        "func(a, b)"
      ],
      "metadata": {
        "colab": {
          "base_uri": "https://localhost:8080/"
        },
        "id": "I1tH0oCvt8vq",
        "outputId": "de69fc76-c448-474b-d226-532aa2a7f2bc"
      },
      "execution_count": 85,
      "outputs": [
        {
          "output_type": "stream",
          "name": "stdout",
          "text": [
            "10000 loops, best of 5: 64.3 µs per loop\n"
          ]
        }
      ]
    },
    {
      "cell_type": "code",
      "source": [
        "def func2(a, b):\n",
        "  if (b > a[-1][1]) or (b < a[0][0]):\n",
        "    return False\n",
        "  if b < (a[-1][1] + a[0][0])/2:\n",
        "    for i in a:\n",
        "      if (b >= i[0]) and (b < i[1]):\n",
        "        return True\n",
        "  else:\n",
        "    for i in range(len(a)-1, -1, -1):\n",
        "      tmp = a[i]\n",
        "      if (b >= tmp[0]) and (b < tmp[1]):\n",
        "        return True\n",
        "\n",
        "  return False"
      ],
      "metadata": {
        "id": "R9XZqav4t-8E"
      },
      "execution_count": 86,
      "outputs": []
    },
    {
      "cell_type": "code",
      "source": [
        "%%timeit\n",
        "func2(a, b)"
      ],
      "metadata": {
        "colab": {
          "base_uri": "https://localhost:8080/"
        },
        "id": "FZ4Tv1y5xVFa",
        "outputId": "abc4bd14-110b-4b12-f570-f7fc3d464412"
      },
      "execution_count": 87,
      "outputs": [
        {
          "output_type": "stream",
          "name": "stdout",
          "text": [
            "The slowest run took 10.09 times longer than the fastest. This could mean that an intermediate result is being cached.\n",
            "100000 loops, best of 5: 3.03 µs per loop\n"
          ]
        }
      ]
    },
    {
      "cell_type": "code",
      "source": [
        "def func3(a, b):\n",
        "  end = len(a)-1\n",
        "  start = 0\n",
        "\n",
        "  while end - start != 1:\n",
        "    new = (start+end)//2 \n",
        "    \n",
        "    if (b >= a[start][0]) and (b < a[new][1]):\n",
        "      end = new\n",
        "    elif (b >= a[new][0]) and (b < a[end][1]):\n",
        "      start = new\n",
        "    else:\n",
        "      return False\n",
        "\n",
        "  for i in range(start, end+1):\n",
        "    if (b >= a[i][0]) and (b < a[i][1]):\n",
        "      return True\n",
        "  return False"
      ],
      "metadata": {
        "id": "KhvhcJrLfFyS"
      },
      "execution_count": 88,
      "outputs": []
    },
    {
      "cell_type": "code",
      "source": [
        "%%timeit\n",
        "func3(a, b)"
      ],
      "metadata": {
        "colab": {
          "base_uri": "https://localhost:8080/"
        },
        "id": "fdk2B2K8mZ08",
        "outputId": "b6883ddd-4a24-4351-852b-c9ed1c93a9fa"
      },
      "execution_count": 89,
      "outputs": [
        {
          "output_type": "stream",
          "name": "stdout",
          "text": [
            "The slowest run took 4.09 times longer than the fastest. This could mean that an intermediate result is being cached.\n",
            "100000 loops, best of 5: 14.6 µs per loop\n"
          ]
        }
      ]
    },
    {
      "cell_type": "markdown",
      "source": [
        "## O(Log(n)) solution"
      ],
      "metadata": {
        "id": "bKSCmyYYbgKi"
      }
    },
    {
      "cell_type": "code",
      "source": [
        "def func4(a, b):\n",
        "  end = len(a)-1\n",
        "  start = 0\n",
        "\n",
        "  while end != start:\n",
        "    if end - start != 1:\n",
        "\n",
        "      new = (start+end)//2 \n",
        "      if (b >= a[start][0]) and (b < a[new][1]):\n",
        "        end = new\n",
        "      elif (b >= a[new][0]) and (b < a[end][1]):\n",
        "        start = new\n",
        "      else:\n",
        "        return False\n",
        "    else:\n",
        "      if (b >= a[start][0]) and (b < a[start][1]):\n",
        "        return True\n",
        "      elif (b >= a[end][0]) and (b < a[end][1]):\n",
        "        return True\n",
        "      else:\n",
        "        return False\n",
        "  return False"
      ],
      "metadata": {
        "id": "F74bx7IVhnN1"
      },
      "execution_count": 90,
      "outputs": []
    },
    {
      "cell_type": "markdown",
      "source": [
        "## More tests"
      ],
      "metadata": {
        "id": "_1aZJxxUbmLf"
      }
    },
    {
      "cell_type": "code",
      "source": [
        "b = 78"
      ],
      "metadata": {
        "id": "h3PsSM8goRGC"
      },
      "execution_count": 97,
      "outputs": []
    },
    {
      "cell_type": "code",
      "source": [
        "%%timeit\n",
        "func4(a, b)"
      ],
      "metadata": {
        "colab": {
          "base_uri": "https://localhost:8080/"
        },
        "id": "ik5AJS2pml39",
        "outputId": "a40381a0-13d7-4b2d-8fa7-c878216e0669"
      },
      "execution_count": 99,
      "outputs": [
        {
          "output_type": "stream",
          "name": "stdout",
          "text": [
            "100000 loops, best of 5: 14.5 µs per loop\n"
          ]
        }
      ]
    },
    {
      "cell_type": "code",
      "source": [
        "%%timeit\n",
        "func3(a, b)"
      ],
      "metadata": {
        "colab": {
          "base_uri": "https://localhost:8080/"
        },
        "id": "M-42S9OLxVzK",
        "outputId": "9f9378a1-f56c-4018-e037-3a51a57bbfc0"
      },
      "execution_count": 100,
      "outputs": [
        {
          "output_type": "stream",
          "name": "stdout",
          "text": [
            "100000 loops, best of 5: 14.7 µs per loop\n"
          ]
        }
      ]
    },
    {
      "cell_type": "code",
      "source": [
        "%%timeit\n",
        "func2(a, b)"
      ],
      "metadata": {
        "colab": {
          "base_uri": "https://localhost:8080/"
        },
        "id": "fajnY_5qlLjb",
        "outputId": "ace4f09b-e039-40fa-f491-045e0d1a9f41"
      },
      "execution_count": 101,
      "outputs": [
        {
          "output_type": "stream",
          "name": "stdout",
          "text": [
            "The slowest run took 10.55 times longer than the fastest. This could mean that an intermediate result is being cached.\n",
            "100000 loops, best of 5: 2.95 µs per loop\n"
          ]
        }
      ]
    },
    {
      "cell_type": "code",
      "source": [
        "%%timeit\n",
        "func(a, b)"
      ],
      "metadata": {
        "colab": {
          "base_uri": "https://localhost:8080/"
        },
        "id": "ySUoo52zfqJy",
        "outputId": "e3656465-27d8-4614-b0e5-32b5a4f83468"
      },
      "execution_count": 102,
      "outputs": [
        {
          "output_type": "stream",
          "name": "stdout",
          "text": [
            "10000 loops, best of 5: 63.1 µs per loop\n"
          ]
        }
      ]
    },
    {
      "cell_type": "code",
      "source": [
        "|"
      ],
      "metadata": {
        "id": "ghN7Yf_vlO9H"
      },
      "execution_count": null,
      "outputs": []
    }
  ]
}